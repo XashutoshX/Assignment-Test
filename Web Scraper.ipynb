{
 "cells": [
  {
   "cell_type": "code",
   "execution_count": 154,
   "metadata": {},
   "outputs": [
    {
     "name": "stdout",
     "output_type": "stream",
     "text": [
      "Enter Company Name:wells and forgo\n",
      "The New York Stock Exchange | NYSE\n",
      "WELLS FARGO HYBRID&PFD SEC A\n",
      "09/18/2020 16:19:07\n"
     ]
    }
   ],
   "source": [
    "from selenium import webdriver\n",
    "from selenium.webdriver.common.keys import Keys\n",
    "import time\n",
    "from selenium.webdriver.support.ui import WebDriverWait\n",
    "\n",
    "company_name = input(\"Enter Company Name:\")#enter company name from the console\n",
    "\n",
    "PATH = \"C:\\Program Files (x86)\\chromedriver.exe\"\n",
    "\n",
    "driver = webdriver.Chrome(PATH)\n",
    "\n",
    "driver.maximize_window() #miximizes the size of chrome browser \n",
    "\n",
    "driver.get(\"https://www.nyse.com\")\n",
    "\n",
    "driver.implicitly_wait(5) #wait for 5 sec to load all page elements completely\n",
    "\n",
    "print(driver.title)\n",
    "\n",
    "#find the search bar by css selector and click to select the search bar\n",
    "search = driver.find_element_by_css_selector(\"#content-c37580c1-3072-4b0a-82a2-1fbe77004d04 > nav > div.navbar__right.hidden-xs > form > div > div > input[type=search]\")\n",
    "\n",
    "search.click()\n",
    "\n",
    "#send company name as keys , when this value is set as input search bar value then the drop down list will appeaer with\n",
    "#all the possible names containg our search term as a list  \n",
    "search.send_keys(company_name)\n",
    "\n",
    "driver.implicitly_wait(5)\n",
    "\n",
    "#in drop down menu select the first element in list  and click as this will be the nearest match we can get to the searched term (company name). you will be redirected to a link \n",
    "item1 = driver.find_element_by_css_selector(\"#content-c37580c1-3072-4b0a-82a2-1fbe77004d04 > nav > div.navbar__right.hidden-xs > form > ul > li:nth-child(1) > a\")\n",
    "\n",
    "item1.click()\n",
    "\n",
    "driver.implicitly_wait(5)\n",
    "\n",
    "#from the quote section select the actual company name \n",
    "actual_cmpny_name=driver.find_element_by_css_selector(\"#content-9d1f8b01-08a6-4db5-99fa-c40f5873615a > div > div:nth-child(1) > div > div:nth-child(2) > div:nth-child(1) > div.d-widget.d-vbox.d-flex-fix.DetailedQuote-nyse > div.d-containter.d-flex-fix.d-vbox.d-nowrap.d-justify-start.d-noscroll > div.d-detailquote-head.d-hbox.d-justify-space-between > div > div.d-dquote-symbol > span:nth-child(1)\")\n",
    "\n",
    "acname=actual_cmpny_name.text\n",
    "\n",
    "print(acname)\n",
    "\n",
    "#from the quote section select the time and date of last transaction\n",
    "# ltt = last trade time \n",
    "ltt = driver.find_element_by_css_selector(\"#content-9d1f8b01-08a6-4db5-99fa-c40f5873615a > div > div:nth-child(1) > div > div:nth-child(2) > div:nth-child(1) > div.d-widget.d-vbox.d-flex-fix.DetailedQuote-nyse > div.d-containter.d-flex-fix.d-vbox.d-nowrap.d-justify-start.d-noscroll > div.d-detailquote-head.d-hbox.d-justify-space-between > div > div.d-dquote-time > span:nth-child(2)\")\n",
    "\n",
    "ltt_txt = ltt.text\n",
    "\n",
    "print(ltt_txt)\n",
    "\n",
    "with open(\"data.csv\",\"a\") as file:\n",
    "    file.write(acname+\",\"+ltt_txt+\"\\n\")\n",
    "\n",
    "driver.quit()"
   ]
  },
  {
   "cell_type": "code",
   "execution_count": null,
   "metadata": {},
   "outputs": [],
   "source": []
  }
 ],
 "metadata": {
  "kernelspec": {
   "display_name": "Python 3",
   "language": "python",
   "name": "python3"
  },
  "language_info": {
   "codemirror_mode": {
    "name": "ipython",
    "version": 3
   },
   "file_extension": ".py",
   "mimetype": "text/x-python",
   "name": "python",
   "nbconvert_exporter": "python",
   "pygments_lexer": "ipython3",
   "version": "3.7.4"
  }
 },
 "nbformat": 4,
 "nbformat_minor": 2
}
